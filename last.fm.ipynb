{
 "cells": [
  {
   "cell_type": "code",
   "execution_count": 1,
   "metadata": {
    "collapsed": true
   },
   "outputs": [],
   "source": [
    "import snap\n",
    "import pandas as pd\n",
    "import numpy\n",
    "import matplotlib.pyplot as plt \n",
    "%matplotlib inline"
   ]
  },
  {
   "cell_type": "code",
   "execution_count": 2,
   "metadata": {
    "collapsed": true
   },
   "outputs": [],
   "source": [
    "MIN = 60"
   ]
  },
  {
   "cell_type": "code",
   "execution_count": 3,
   "metadata": {
    "collapsed": false
   },
   "outputs": [
    {
     "name": "stderr",
     "output_type": "stream",
     "text": [
      "Skipping line 2120260: expected 6 fields, saw 8\n",
      "\n",
      "Skipping line 2446318: expected 6 fields, saw 8\n",
      "\n",
      "Skipping line 11141081: expected 6 fields, saw 8\n",
      "\n",
      "Skipping line 11152099: expected 6 fields, saw 12\n",
      "Skipping line 11152402: expected 6 fields, saw 8\n",
      "\n",
      "Skipping line 11882087: expected 6 fields, saw 8\n",
      "\n",
      "Skipping line 12902539: expected 6 fields, saw 8\n",
      "Skipping line 12935044: expected 6 fields, saw 8\n",
      "\n",
      "Skipping line 17589539: expected 6 fields, saw 8\n",
      "\n"
     ]
    }
   ],
   "source": [
    "# Parse tracks file, ignore tracks that has no track id\n",
    "all_listened = pd.read_csv(\"dataset\\lastfm-dataset-1K\\userid-timestamp-artid-artname-traid-traname.tsv\", nrows=None, sep='\\t', \n",
    "                     header=None, names=['user_id', 'timestamp', 'track_id', 'track_name'], \n",
    "                     parse_dates=[1], usecols=[0,1,4,5], error_bad_lines=False, warn_bad_lines=True).dropna()"
   ]
  },
  {
   "cell_type": "code",
   "execution_count": 4,
   "metadata": {
    "collapsed": true
   },
   "outputs": [],
   "source": [
    "# Extract two weeks data\n",
    "all_listened_two_weeks = all_listened[(all_listened['timestamp'] >= '2009-04-07 00:00:00') & \n",
    "                                      (all_listened['timestamp'] < '2009-05-05 00:00:00')]"
   ]
  },
  {
   "cell_type": "code",
   "execution_count": 120,
   "metadata": {
    "collapsed": false
   },
   "outputs": [],
   "source": [
    "# Extract only two days data for all users in the dataset\n",
    "begin = '2009-04-21 00:00:00'\n",
    "finish = '2009-05-05 00:00:00'\n",
    "all_listened = all_listened_two_weeks[(all_listened_two_weeks['timestamp'] >= begin) & \n",
    "                                      (all_listened_two_weeks['timestamp'] < finish)]"
   ]
  },
  {
   "cell_type": "code",
   "execution_count": 6,
   "metadata": {
    "collapsed": false,
    "scrolled": false
   },
   "outputs": [
    {
     "name": "stdout",
     "output_type": "stream",
     "text": [
      "<class 'pandas.core.frame.DataFrame'>\n",
      "Int64Index: 199174 entries, 10 to 19081161\n",
      "Data columns (total 4 columns):\n",
      "user_id       199174 non-null object\n",
      "timestamp     199174 non-null datetime64[ns]\n",
      "track_id      199174 non-null object\n",
      "track_name    199174 non-null object\n",
      "dtypes: datetime64[ns](1), object(3)\n",
      "memory usage: 7.6+ MB\n"
     ]
    }
   ],
   "source": [
    "# Info about data\n",
    "all_listened.info()"
   ]
  },
  {
   "cell_type": "code",
   "execution_count": 7,
   "metadata": {
    "collapsed": true
   },
   "outputs": [],
   "source": [
    "# Helper dataframe where all listened songs are shifted once so that it can be concatenated\n",
    "# with the original all_listened dataframe. The resulting dataframe holds rows for all consecutively listen tracks\n",
    "all_listened_helper = all_listened.rename(columns={'user_id': 'user_id_2', 'timestamp': 'timestamp_2', \n",
    "                                                   'track_id': 'track_id_2', 'track_name': 'track_name_2'}).shift()\n",
    "cons_listened = pd.concat([all_listened, all_listened_helper], axis=1)"
   ]
  },
  {
   "cell_type": "code",
   "execution_count": 8,
   "metadata": {
    "collapsed": true
   },
   "outputs": [],
   "source": [
    "# Remove rows for which user id is not the same, tracks are identical \n",
    "# or the time difference between two consecutive tracks is bigger than the thredhsold MIN \n",
    "cons_listened = cons_listened[(cons_listened['user_id'] == cons_listened['user_id_2']) & \n",
    "                              (cons_listened['track_id'] != cons_listened['track_id_2']) &\n",
    "                              ((cons_listened['timestamp_2']-cons_listened['timestamp']).astype('timedelta64[m]') <= MIN)]"
   ]
  },
  {
   "cell_type": "code",
   "execution_count": 9,
   "metadata": {
    "collapsed": true
   },
   "outputs": [
    {
     "data": {
      "text/html": [
       "<div>\n",
       "<table border=\"1\" class=\"dataframe\">\n",
       "  <thead>\n",
       "    <tr style=\"text-align: right;\">\n",
       "      <th></th>\n",
       "      <th>user_id</th>\n",
       "      <th>timestamp</th>\n",
       "      <th>track_id</th>\n",
       "      <th>track_name</th>\n",
       "      <th>user_id_2</th>\n",
       "      <th>timestamp_2</th>\n",
       "      <th>track_id_2</th>\n",
       "      <th>track_name_2</th>\n",
       "    </tr>\n",
       "  </thead>\n",
       "  <tbody>\n",
       "    <tr>\n",
       "      <th>1926531</th>\n",
       "      <td>user_000094</td>\n",
       "      <td>2009-04-21 19:01:35</td>\n",
       "      <td>37f12582-e0aa-4f53-bb2e-d1527e8f2299</td>\n",
       "      <td>Sweat</td>\n",
       "      <td>user_000094</td>\n",
       "      <td>2009-04-21 19:06:19</td>\n",
       "      <td>7f29e3ad-50f1-499d-9811-566e490852cc</td>\n",
       "      <td>Gold Lion</td>\n",
       "    </tr>\n",
       "    <tr>\n",
       "      <th>1926534</th>\n",
       "      <td>user_000094</td>\n",
       "      <td>2009-04-21 18:34:19</td>\n",
       "      <td>37f12582-e0aa-4f53-bb2e-d1527e8f2299</td>\n",
       "      <td>Sweat</td>\n",
       "      <td>user_000094</td>\n",
       "      <td>2009-04-21 18:38:05</td>\n",
       "      <td>0ea9ada6-fe62-403c-af08-159af46a1a3a</td>\n",
       "      <td>Hush</td>\n",
       "    </tr>\n",
       "    <tr>\n",
       "      <th>8123237</th>\n",
       "      <td>user_000431</td>\n",
       "      <td>2009-04-24 16:00:23</td>\n",
       "      <td>f94fb7e7-76a2-4d84-8734-949f08b0e65b</td>\n",
       "      <td>Saw You Drown</td>\n",
       "      <td>user_000431</td>\n",
       "      <td>2009-04-24 16:05:24</td>\n",
       "      <td>e491e999-91fc-43fd-a32c-4493405ec7c5</td>\n",
       "      <td>I Don'T Like The Drugs (But The Drugs Like Me)</td>\n",
       "    </tr>\n",
       "    <tr>\n",
       "      <th>8123634</th>\n",
       "      <td>user_000431</td>\n",
       "      <td>2009-04-23 01:35:39</td>\n",
       "      <td>37f12582-e0aa-4f53-bb2e-d1527e8f2299</td>\n",
       "      <td>Sweat</td>\n",
       "      <td>user_000431</td>\n",
       "      <td>2009-04-23 01:39:25</td>\n",
       "      <td>79b675dd-f7c4-4bef-a924-0b18cf449535</td>\n",
       "      <td>I'M Gonna Crawl</td>\n",
       "    </tr>\n",
       "    <tr>\n",
       "      <th>14255172</th>\n",
       "      <td>user_000761</td>\n",
       "      <td>2009-04-29 20:21:35</td>\n",
       "      <td>37f12582-e0aa-4f53-bb2e-d1527e8f2299</td>\n",
       "      <td>Sweat</td>\n",
       "      <td>user_000761</td>\n",
       "      <td>2009-04-29 20:25:19</td>\n",
       "      <td>3e85a4cc-3733-4160-8982-6fa6da51cfbc</td>\n",
       "      <td>Primrose Path</td>\n",
       "    </tr>\n",
       "    <tr>\n",
       "      <th>16060176</th>\n",
       "      <td>user_000833</td>\n",
       "      <td>2009-05-04 06:47:31</td>\n",
       "      <td>37f12582-e0aa-4f53-bb2e-d1527e8f2299</td>\n",
       "      <td>Sweat</td>\n",
       "      <td>user_000833</td>\n",
       "      <td>2009-05-04 06:47:55</td>\n",
       "      <td>6f71016e-8be0-4f9c-b72a-f88cc8347d3c</td>\n",
       "      <td>Endlessly, She Said</td>\n",
       "    </tr>\n",
       "    <tr>\n",
       "      <th>16060177</th>\n",
       "      <td>user_000833</td>\n",
       "      <td>2009-05-04 06:43:45</td>\n",
       "      <td>f94fb7e7-76a2-4d84-8734-949f08b0e65b</td>\n",
       "      <td>Saw You Drown</td>\n",
       "      <td>user_000833</td>\n",
       "      <td>2009-05-04 06:47:31</td>\n",
       "      <td>37f12582-e0aa-4f53-bb2e-d1527e8f2299</td>\n",
       "      <td>Sweat</td>\n",
       "    </tr>\n",
       "    <tr>\n",
       "      <th>16060178</th>\n",
       "      <td>user_000833</td>\n",
       "      <td>2009-05-04 06:43:45</td>\n",
       "      <td>37f12582-e0aa-4f53-bb2e-d1527e8f2299</td>\n",
       "      <td>Sweat</td>\n",
       "      <td>user_000833</td>\n",
       "      <td>2009-05-04 06:43:45</td>\n",
       "      <td>f94fb7e7-76a2-4d84-8734-949f08b0e65b</td>\n",
       "      <td>Saw You Drown</td>\n",
       "    </tr>\n",
       "    <tr>\n",
       "      <th>16060179</th>\n",
       "      <td>user_000833</td>\n",
       "      <td>2009-05-04 06:38:43</td>\n",
       "      <td>f94fb7e7-76a2-4d84-8734-949f08b0e65b</td>\n",
       "      <td>Saw You Drown</td>\n",
       "      <td>user_000833</td>\n",
       "      <td>2009-05-04 06:43:45</td>\n",
       "      <td>37f12582-e0aa-4f53-bb2e-d1527e8f2299</td>\n",
       "      <td>Sweat</td>\n",
       "    </tr>\n",
       "    <tr>\n",
       "      <th>16060782</th>\n",
       "      <td>user_000833</td>\n",
       "      <td>2009-04-23 03:17:26</td>\n",
       "      <td>37f12582-e0aa-4f53-bb2e-d1527e8f2299</td>\n",
       "      <td>Sweat</td>\n",
       "      <td>user_000833</td>\n",
       "      <td>2009-04-23 03:21:13</td>\n",
       "      <td>cc8b98af-0bf4-4591-897e-1f0bde9391f7</td>\n",
       "      <td>Sell My Old Clothes, I'M Off To Heaven</td>\n",
       "    </tr>\n",
       "    <tr>\n",
       "      <th>16060834</th>\n",
       "      <td>user_000833</td>\n",
       "      <td>2009-04-22 09:10:27</td>\n",
       "      <td>f94fb7e7-76a2-4d84-8734-949f08b0e65b</td>\n",
       "      <td>Saw You Drown</td>\n",
       "      <td>user_000833</td>\n",
       "      <td>2009-04-22 09:13:17</td>\n",
       "      <td>e5476028-ace6-484a-b179-42ea79e853e8</td>\n",
       "      <td>Instrumental</td>\n",
       "    </tr>\n",
       "  </tbody>\n",
       "</table>\n",
       "</div>"
      ],
      "text/plain": [
       "              user_id           timestamp  \\\n",
       "1926531   user_000094 2009-04-21 19:01:35   \n",
       "1926534   user_000094 2009-04-21 18:34:19   \n",
       "8123237   user_000431 2009-04-24 16:00:23   \n",
       "8123634   user_000431 2009-04-23 01:35:39   \n",
       "14255172  user_000761 2009-04-29 20:21:35   \n",
       "16060176  user_000833 2009-05-04 06:47:31   \n",
       "16060177  user_000833 2009-05-04 06:43:45   \n",
       "16060178  user_000833 2009-05-04 06:43:45   \n",
       "16060179  user_000833 2009-05-04 06:38:43   \n",
       "16060782  user_000833 2009-04-23 03:17:26   \n",
       "16060834  user_000833 2009-04-22 09:10:27   \n",
       "\n",
       "                                      track_id     track_name    user_id_2  \\\n",
       "1926531   37f12582-e0aa-4f53-bb2e-d1527e8f2299          Sweat  user_000094   \n",
       "1926534   37f12582-e0aa-4f53-bb2e-d1527e8f2299          Sweat  user_000094   \n",
       "8123237   f94fb7e7-76a2-4d84-8734-949f08b0e65b  Saw You Drown  user_000431   \n",
       "8123634   37f12582-e0aa-4f53-bb2e-d1527e8f2299          Sweat  user_000431   \n",
       "14255172  37f12582-e0aa-4f53-bb2e-d1527e8f2299          Sweat  user_000761   \n",
       "16060176  37f12582-e0aa-4f53-bb2e-d1527e8f2299          Sweat  user_000833   \n",
       "16060177  f94fb7e7-76a2-4d84-8734-949f08b0e65b  Saw You Drown  user_000833   \n",
       "16060178  37f12582-e0aa-4f53-bb2e-d1527e8f2299          Sweat  user_000833   \n",
       "16060179  f94fb7e7-76a2-4d84-8734-949f08b0e65b  Saw You Drown  user_000833   \n",
       "16060782  37f12582-e0aa-4f53-bb2e-d1527e8f2299          Sweat  user_000833   \n",
       "16060834  f94fb7e7-76a2-4d84-8734-949f08b0e65b  Saw You Drown  user_000833   \n",
       "\n",
       "                 timestamp_2                            track_id_2  \\\n",
       "1926531  2009-04-21 19:06:19  7f29e3ad-50f1-499d-9811-566e490852cc   \n",
       "1926534  2009-04-21 18:38:05  0ea9ada6-fe62-403c-af08-159af46a1a3a   \n",
       "8123237  2009-04-24 16:05:24  e491e999-91fc-43fd-a32c-4493405ec7c5   \n",
       "8123634  2009-04-23 01:39:25  79b675dd-f7c4-4bef-a924-0b18cf449535   \n",
       "14255172 2009-04-29 20:25:19  3e85a4cc-3733-4160-8982-6fa6da51cfbc   \n",
       "16060176 2009-05-04 06:47:55  6f71016e-8be0-4f9c-b72a-f88cc8347d3c   \n",
       "16060177 2009-05-04 06:47:31  37f12582-e0aa-4f53-bb2e-d1527e8f2299   \n",
       "16060178 2009-05-04 06:43:45  f94fb7e7-76a2-4d84-8734-949f08b0e65b   \n",
       "16060179 2009-05-04 06:43:45  37f12582-e0aa-4f53-bb2e-d1527e8f2299   \n",
       "16060782 2009-04-23 03:21:13  cc8b98af-0bf4-4591-897e-1f0bde9391f7   \n",
       "16060834 2009-04-22 09:13:17  e5476028-ace6-484a-b179-42ea79e853e8   \n",
       "\n",
       "                                            track_name_2  \n",
       "1926531                                        Gold Lion  \n",
       "1926534                                             Hush  \n",
       "8123237   I Don'T Like The Drugs (But The Drugs Like Me)  \n",
       "8123634                                  I'M Gonna Crawl  \n",
       "14255172                                   Primrose Path  \n",
       "16060176                             Endlessly, She Said  \n",
       "16060177                                           Sweat  \n",
       "16060178                                   Saw You Drown  \n",
       "16060179                                           Sweat  \n",
       "16060782          Sell My Old Clothes, I'M Off To Heaven  \n",
       "16060834                                    Instrumental  "
      ]
     },
     "execution_count": 9,
     "metadata": {},
     "output_type": "execute_result"
    }
   ],
   "source": [
    "cons_listened[(cons_listened['track_id'] == 'f94fb7e7-76a2-4d84-8734-949f08b0e65b') | \n",
    "              (cons_listened['track_id'] == '37f12582-e0aa-4f53-bb2e-d1527e8f2299')]"
   ]
  },
  {
   "cell_type": "code",
   "execution_count": 9,
   "metadata": {
    "collapsed": true
   },
   "outputs": [],
   "source": [
    "def cons_group(track_1_id, track_2_id):\n",
    "    \"\"\" Function to determine the group based on two tracks presented in the row. \"\"\"\n",
    "    if track_1_id > track_2_id:\n",
    "        return track_1_id, track_2_id\n",
    "    else:\n",
    "        return track_2_id, track_1_id\n",
    "\n",
    "# Count how many times each two tracks were played one after other in MIN minutes period \n",
    "cons_listened_counts = pd.DataFrame({'cons_count' : cons_listened.groupby(\n",
    "            numpy.vectorize(cons_group)(cons_listened['track_id'], cons_listened['track_id_2'])\n",
    "        ).size()}).reset_index()\n",
    "\n",
    "#cons_listened_counts"
   ]
  },
  {
   "cell_type": "code",
   "execution_count": 10,
   "metadata": {
    "collapsed": true
   },
   "outputs": [],
   "source": [
    "# Count how many times each song were played in total\n",
    "track_counts = all_listened.groupby(['track_id', 'track_name']).size()"
   ]
  },
  {
   "cell_type": "code",
   "execution_count": 11,
   "metadata": {
    "collapsed": true
   },
   "outputs": [],
   "source": [
    "# Create a tracks map where each track id -> track name, track total count, integer id\n",
    "tracks_map = {}\n",
    "for i, (track_id, track_name) in enumerate(track_counts.keys()):\n",
    "    tracks_map[track_id] = {'track_name': track_name, 'track_count': track_counts[(track_id, track_name)], 'int_id': i} \n",
    "    \n",
    "#tracks_map"
   ]
  },
  {
   "cell_type": "code",
   "execution_count": 12,
   "metadata": {
    "collapsed": false
   },
   "outputs": [
    {
     "data": {
      "text/plain": [
       "92361"
      ]
     },
     "execution_count": 12,
     "metadata": {},
     "output_type": "execute_result"
    }
   ],
   "source": [
    "len(tracks_map)"
   ]
  },
  {
   "cell_type": "code",
   "execution_count": 13,
   "metadata": {
    "collapsed": true
   },
   "outputs": [],
   "source": [
    "def similarity(cons_count, track_1_count, track_2_count):\n",
    "    \"\"\" Function to calculate the similarity between two songs\n",
    "        given both tracks total counts in the corpus and the \n",
    "        number of times both tracks were played one after other\"\"\"\n",
    "    return cons_count*1.0/numpy.sqrt(tracks_map[track_1_count]['track_count']*tracks_map[track_2_count]['track_count'])\n",
    "\n",
    "# Add similarity column that determines the similarity between two tracks in the row calculated using similarity function\n",
    "cons_listened_counts['similarity'] = numpy.vectorize(similarity)(cons_listened_counts['cons_count'], \n",
    "                                                                 cons_listened_counts['level_0'], \n",
    "                                                                 cons_listened_counts['level_1'])\n",
    "\n",
    "#cons_listened_counts"
   ]
  },
  {
   "cell_type": "code",
   "execution_count": 14,
   "metadata": {
    "collapsed": false
   },
   "outputs": [
    {
     "data": {
      "text/plain": [
       "[<matplotlib.lines.Line2D at 0x9c99a9b0>]"
      ]
     },
     "execution_count": 14,
     "metadata": {},
     "output_type": "execute_result"
    },
    {
     "data": {
      "image/png": "[encoded data removed]",
      "text/plain": [
       "<matplotlib.figure.Figure at 0x9f739438>"
      ]
     },
     "metadata": {},
     "output_type": "display_data"
    }
   ],
   "source": [
    "# Plot the similarities between songs in increasing order\n",
    "plt.plot(cons_listened_counts['similarity'].sort(inplace=False))"
   ]
  },
  {
   "cell_type": "code",
   "execution_count": 51,
   "metadata": {
    "collapsed": false
   },
   "outputs": [
    {
     "name": "stdout",
     "output_type": "stream",
     "text": [
      "69483\n"
     ]
    }
   ],
   "source": [
    "# Create song network, add all tracks as nodes in it \n",
    "song_network = snap.TUNGraph.New()\n",
    "labels = {}\n",
    "for track_id in tracks_map:\n",
    "    int_id = tracks_map[track_id]['int_id']\n",
    "    song_network.AddNode(int_id)\n",
    "    labels[int_id] = track_id\n",
    "\n",
    "# Only keep the similar tracks and add edges between these tracks in the network specified above\n",
    "similar_songs = cons_listened_counts[cons_listened_counts['similarity'] > 0.5].values\n",
    "\n",
    "for similar in similar_songs:\n",
    "    song_network.AddEdge(tracks_map[similar[0]]['int_id'], tracks_map[similar[1]]['int_id'])\n",
    "    \n",
    "print song_network.GetEdges()"
   ]
  },
  {
   "cell_type": "code",
   "execution_count": 435,
   "metadata": {
    "collapsed": true
   },
   "outputs": [],
   "source": [
    "import networkx as nx\n",
    "g = nx.Graph()\n",
    "for similar in similar_songs:\n",
    "    g.add_edge(tracks_map[similar[0]]['int_id'], tracks_map[similar[1]]['int_id'])\n",
    "nx.draw_networkx(g)"
   ]
  },
  {
   "cell_type": "code",
   "execution_count": 52,
   "metadata": {
    "collapsed": false
   },
   "outputs": [
    {
     "name": "stdout",
     "output_type": "stream",
     "text": [
      "The modularity of the network is 0.999031\n"
     ]
    }
   ],
   "source": [
    "# Cluster the tracks network using Clauset-Newman-Moore community detection method\n",
    "CmtyV = snap.TCnComV()\n",
    "modularity = snap.CommunityCNM(song_network, CmtyV)\n",
    "print \"The modularity of the network is %f\" % modularity"
   ]
  },
  {
   "cell_type": "code",
   "execution_count": 139,
   "metadata": {
    "collapsed": false
   },
   "outputs": [],
   "source": [
    "# Append cluster ids to all tracks in tracks map\n",
    "clusters = {}\n",
    "for i, cluster in enumerate(CmtyV):\n",
    "    clusters[i] = cluster\n",
    "    for int_id in cluster:\n",
    "        track_id = labels[int_id]\n",
    "        tracks_map[track_id]['cluster_id'] = i"
   ]
  },
  {
   "cell_type": "code",
   "execution_count": 60,
   "metadata": {
    "collapsed": false,
    "scrolled": true
   },
   "outputs": [
    {
     "data": {
      "text/html": [
       "<div>\n",
       "<table border=\"1\" class=\"dataframe\">\n",
       "  <thead>\n",
       "    <tr style=\"text-align: right;\">\n",
       "      <th></th>\n",
       "      <th>user_id</th>\n",
       "      <th>timestamp</th>\n",
       "      <th>track_id</th>\n",
       "      <th>track_name</th>\n",
       "    </tr>\n",
       "  </thead>\n",
       "  <tbody>\n",
       "    <tr>\n",
       "      <th>10</th>\n",
       "      <td>user_000001</td>\n",
       "      <td>2009-05-04 13:06:09</td>\n",
       "      <td>f7c1f8f8-b935-45ed-8fc8-7def69d92a10</td>\n",
       "      <td>The Last Emperor (Theme)</td>\n",
       "    </tr>\n",
       "    <tr>\n",
       "      <th>12</th>\n",
       "      <td>user_000001</td>\n",
       "      <td>2009-05-04 12:55:34</td>\n",
       "      <td>475d4e50-cebb-4cd0-8cd4-c3df97987962</td>\n",
       "      <td>Tibetan Dance (Version)</td>\n",
       "    </tr>\n",
       "    <tr>\n",
       "      <th>14</th>\n",
       "      <td>user_000001</td>\n",
       "      <td>2009-05-03 15:48:25</td>\n",
       "      <td>dc394163-2b78-4b56-94e4-658597a29ef8</td>\n",
       "      <td>Boy, Boy, Boy (Switch Remix)</td>\n",
       "    </tr>\n",
       "    <tr>\n",
       "      <th>15</th>\n",
       "      <td>user_000001</td>\n",
       "      <td>2009-05-03 15:37:56</td>\n",
       "      <td>340d9a0b-9a43-4098-b116-9f79811bd508</td>\n",
       "      <td>Crocodile (Innervisions Orchestra Mix)</td>\n",
       "    </tr>\n",
       "    <tr>\n",
       "      <th>16</th>\n",
       "      <td>user_000001</td>\n",
       "      <td>2009-05-03 15:14:53</td>\n",
       "      <td>0b04407b-f517-4e00-9e6a-494795efc73e</td>\n",
       "      <td>Ninna Nanna In Blu (Raw Deal Remix)</td>\n",
       "    </tr>\n",
       "    <tr>\n",
       "      <th>17</th>\n",
       "      <td>user_000001</td>\n",
       "      <td>2009-05-03 15:10:18</td>\n",
       "      <td>4e78efc4-e545-47af-9617-05ff816d86e2</td>\n",
       "      <td>Elysian Fields</td>\n",
       "    </tr>\n",
       "    <tr>\n",
       "      <th>18</th>\n",
       "      <td>user_000001</td>\n",
       "      <td>2009-05-03 15:04:31</td>\n",
       "      <td>fb51d2c4-cc69-4128-92f5-77ec38d66859</td>\n",
       "      <td>Planetary Deadlock</td>\n",
       "    </tr>\n",
       "    <tr>\n",
       "      <th>19</th>\n",
       "      <td>user_000001</td>\n",
       "      <td>2009-05-03 14:56:25</td>\n",
       "      <td>4277434f-e3c2-41ae-9ce3-23fd157f9347</td>\n",
       "      <td>Good Morning Love Coffee Is Ready</td>\n",
       "    </tr>\n",
       "    <tr>\n",
       "      <th>20</th>\n",
       "      <td>user_000001</td>\n",
       "      <td>2009-05-03 14:50:51</td>\n",
       "      <td>1151b040-8022-4965-96d2-8a4605ce456c</td>\n",
       "      <td>Deadly Species</td>\n",
       "    </tr>\n",
       "    <tr>\n",
       "      <th>21</th>\n",
       "      <td>user_000001</td>\n",
       "      <td>2009-05-03 14:46:29</td>\n",
       "      <td>f78c95a8-9256-4757-9a9f-213df5c6854e</td>\n",
       "      <td>Cold Fusion</td>\n",
       "    </tr>\n",
       "    <tr>\n",
       "      <th>22</th>\n",
       "      <td>user_000001</td>\n",
       "      <td>2009-05-03 14:39:20</td>\n",
       "      <td>c4fc8802-d186-4c4d-85cd-d5d063b935c2</td>\n",
       "      <td>Clouds</td>\n",
       "    </tr>\n",
       "    <tr>\n",
       "      <th>23</th>\n",
       "      <td>user_000001</td>\n",
       "      <td>2009-05-03 14:34:06</td>\n",
       "      <td>7217acaf-0f12-4cc0-95da-4fbe17b399dd</td>\n",
       "      <td>Sovatex 2055</td>\n",
       "    </tr>\n",
       "    <tr>\n",
       "      <th>24</th>\n",
       "      <td>user_000001</td>\n",
       "      <td>2009-05-03 14:28:02</td>\n",
       "      <td>b79e44f0-2a27-4f50-8a08-ce959a48c9c0</td>\n",
       "      <td>Beach Towel</td>\n",
       "    </tr>\n",
       "    <tr>\n",
       "      <th>32</th>\n",
       "      <td>user_000001</td>\n",
       "      <td>2009-05-03 13:32:44</td>\n",
       "      <td>f2a38e8c-2eb1-4f47-b3be-bf613153631e</td>\n",
       "      <td>How Lonely Does It Get</td>\n",
       "    </tr>\n",
       "    <tr>\n",
       "      <th>33</th>\n",
       "      <td>user_000001</td>\n",
       "      <td>2009-05-03 13:29:11</td>\n",
       "      <td>d7ffc453-7c42-4fd7-bed6-b749e7a1a60c</td>\n",
       "      <td>You Make Me Dizzy</td>\n",
       "    </tr>\n",
       "    <tr>\n",
       "      <th>37</th>\n",
       "      <td>user_000001</td>\n",
       "      <td>2009-05-02 15:29:50</td>\n",
       "      <td>41bacfc2-c594-4e07-a70d-3675f39003ec</td>\n",
       "      <td>The Awakening</td>\n",
       "    </tr>\n",
       "    <tr>\n",
       "      <th>38</th>\n",
       "      <td>user_000001</td>\n",
       "      <td>2009-05-02 15:24:45</td>\n",
       "      <td>cc7da9f6-df0e-4f88-a921-0f3b13f51fd1</td>\n",
       "      <td>Stoke Up The Fire</td>\n",
       "    </tr>\n",
       "    <tr>\n",
       "      <th>39</th>\n",
       "      <td>user_000001</td>\n",
       "      <td>2009-05-02 15:19:46</td>\n",
       "      <td>0024d72c-136f-49f2-9078-ce4b39b94d3f</td>\n",
       "      <td>Something In The Way</td>\n",
       "    </tr>\n",
       "    <tr>\n",
       "      <th>40</th>\n",
       "      <td>user_000001</td>\n",
       "      <td>2009-05-02 15:13:49</td>\n",
       "      <td>2f550569-8859-4345-a554-ff698eef3ffe</td>\n",
       "      <td>Play With The Changes</td>\n",
       "    </tr>\n",
       "    <tr>\n",
       "      <th>41</th>\n",
       "      <td>user_000001</td>\n",
       "      <td>2009-05-02 15:08:57</td>\n",
       "      <td>00b811a4-762b-492e-b5ef-9a673a55da57</td>\n",
       "      <td>Give In</td>\n",
       "    </tr>\n",
       "    <tr>\n",
       "      <th>43</th>\n",
       "      <td>user_000001</td>\n",
       "      <td>2009-05-02 15:00:59</td>\n",
       "      <td>6b71d43e-9258-4abd-89da-921fe00070a1</td>\n",
       "      <td>Look Inside</td>\n",
       "    </tr>\n",
       "    <tr>\n",
       "      <th>44</th>\n",
       "      <td>user_000001</td>\n",
       "      <td>2009-05-02 14:56:52</td>\n",
       "      <td>0fef630e-df3d-4880-97b6-06eb3e2767a7</td>\n",
       "      <td>Morning Child</td>\n",
       "    </tr>\n",
       "    <tr>\n",
       "      <th>45</th>\n",
       "      <td>user_000001</td>\n",
       "      <td>2009-05-02 14:56:52</td>\n",
       "      <td>8e9ec4d9-2248-4f6f-af74-2982f107159a</td>\n",
       "      <td>Take My Time</td>\n",
       "    </tr>\n",
       "    <tr>\n",
       "      <th>46</th>\n",
       "      <td>user_000001</td>\n",
       "      <td>2009-05-02 14:52:15</td>\n",
       "      <td>0fef630e-df3d-4880-97b6-06eb3e2767a7</td>\n",
       "      <td>Morning Child</td>\n",
       "    </tr>\n",
       "    <tr>\n",
       "      <th>51</th>\n",
       "      <td>user_000001</td>\n",
       "      <td>2009-05-02 14:26:28</td>\n",
       "      <td>e1696a4f-e1b2-4727-a7df-d5b4207ffd52</td>\n",
       "      <td>Amber Sky</td>\n",
       "    </tr>\n",
       "    <tr>\n",
       "      <th>52</th>\n",
       "      <td>user_000001</td>\n",
       "      <td>2009-05-02 14:24:04</td>\n",
       "      <td>fc89d5bf-a04c-41c9-836d-924e64302076</td>\n",
       "      <td>Rasta Baby</td>\n",
       "    </tr>\n",
       "    <tr>\n",
       "      <th>53</th>\n",
       "      <td>user_000001</td>\n",
       "      <td>2009-05-02 14:19:06</td>\n",
       "      <td>fc89d5bf-a04c-41c9-836d-924e64302076</td>\n",
       "      <td>Rasta Baby</td>\n",
       "    </tr>\n",
       "    <tr>\n",
       "      <th>74</th>\n",
       "      <td>user_000001</td>\n",
       "      <td>2009-05-01 12:45:46</td>\n",
       "      <td>935e9356-19cc-467e-8bc5-f1c2e07caebc</td>\n",
       "      <td>Growls Garden</td>\n",
       "    </tr>\n",
       "    <tr>\n",
       "      <th>75</th>\n",
       "      <td>user_000001</td>\n",
       "      <td>2009-05-01 12:18:14</td>\n",
       "      <td>d1de63b3-fb80-46bc-befa-8e55076b379a</td>\n",
       "      <td>The Crush</td>\n",
       "    </tr>\n",
       "    <tr>\n",
       "      <th>76</th>\n",
       "      <td>user_000001</td>\n",
       "      <td>2009-05-01 12:09:59</td>\n",
       "      <td>e7d6d338-5e90-4133-8f8b-2a2e63f2a5eb</td>\n",
       "      <td>Are We? (Feat. Michelle Amador)</td>\n",
       "    </tr>\n",
       "    <tr>\n",
       "      <th>...</th>\n",
       "      <td>...</td>\n",
       "      <td>...</td>\n",
       "      <td>...</td>\n",
       "      <td>...</td>\n",
       "    </tr>\n",
       "    <tr>\n",
       "      <th>458</th>\n",
       "      <td>user_000001</td>\n",
       "      <td>2009-04-22 13:39:58</td>\n",
       "      <td>82784797-c2f8-444d-84e0-5bb70d7248d4</td>\n",
       "      <td>It'S Not My Problem</td>\n",
       "    </tr>\n",
       "    <tr>\n",
       "      <th>459</th>\n",
       "      <td>user_000001</td>\n",
       "      <td>2009-04-22 13:36:15</td>\n",
       "      <td>402ce8e4-bbbc-4bd9-9f83-4c91d52473ad</td>\n",
       "      <td>16</td>\n",
       "    </tr>\n",
       "    <tr>\n",
       "      <th>491</th>\n",
       "      <td>user_000001</td>\n",
       "      <td>2009-04-22 04:13:35</td>\n",
       "      <td>475d4e50-cebb-4cd0-8cd4-c3df97987962</td>\n",
       "      <td>Tibetan Dance (Version)</td>\n",
       "    </tr>\n",
       "    <tr>\n",
       "      <th>503</th>\n",
       "      <td>user_000001</td>\n",
       "      <td>2009-04-21 17:35:33</td>\n",
       "      <td>f7c1f8f8-b935-45ed-8fc8-7def69d92a10</td>\n",
       "      <td>The Last Emperor (Theme)</td>\n",
       "    </tr>\n",
       "    <tr>\n",
       "      <th>505</th>\n",
       "      <td>user_000001</td>\n",
       "      <td>2009-04-21 17:17:41</td>\n",
       "      <td>475d4e50-cebb-4cd0-8cd4-c3df97987962</td>\n",
       "      <td>Tibetan Dance (Version)</td>\n",
       "    </tr>\n",
       "    <tr>\n",
       "      <th>514</th>\n",
       "      <td>user_000001</td>\n",
       "      <td>2009-04-21 16:37:42</td>\n",
       "      <td>a1e07c0a-ccd9-43b8-ad0a-bd62a6eff8b8</td>\n",
       "      <td>Tights Wine</td>\n",
       "    </tr>\n",
       "    <tr>\n",
       "      <th>515</th>\n",
       "      <td>user_000001</td>\n",
       "      <td>2009-04-21 16:37:01</td>\n",
       "      <td>7c5ab380-9609-4a75-8d9f-e7855d9eb626</td>\n",
       "      <td>Daisy, She'S A Cowman.. Man..</td>\n",
       "    </tr>\n",
       "    <tr>\n",
       "      <th>516</th>\n",
       "      <td>user_000001</td>\n",
       "      <td>2009-04-21 16:34:55</td>\n",
       "      <td>25977392-c83d-48ea-8631-82be3d3ef8cd</td>\n",
       "      <td>Prime Cock Via Megathong</td>\n",
       "    </tr>\n",
       "    <tr>\n",
       "      <th>517</th>\n",
       "      <td>user_000001</td>\n",
       "      <td>2009-04-21 16:29:32</td>\n",
       "      <td>352887c5-48dc-4270-acc1-81e2256d0a8c</td>\n",
       "      <td>Willy'S Wonka Kite Finger</td>\n",
       "    </tr>\n",
       "    <tr>\n",
       "      <th>518</th>\n",
       "      <td>user_000001</td>\n",
       "      <td>2009-04-21 16:26:12</td>\n",
       "      <td>2a035416-9556-47f9-b7a7-1da2837e4148</td>\n",
       "      <td>Donut Puncher</td>\n",
       "    </tr>\n",
       "    <tr>\n",
       "      <th>519</th>\n",
       "      <td>user_000001</td>\n",
       "      <td>2009-04-21 16:21:12</td>\n",
       "      <td>21179326-9c43-4537-a239-321615e4a314</td>\n",
       "      <td>Spin The Empty</td>\n",
       "    </tr>\n",
       "    <tr>\n",
       "      <th>520</th>\n",
       "      <td>user_000001</td>\n",
       "      <td>2009-04-21 16:19:57</td>\n",
       "      <td>50bae01a-5c93-4593-9051-4d52dbc2bd71</td>\n",
       "      <td>Super-Fanny-Tastic-Elastic</td>\n",
       "    </tr>\n",
       "    <tr>\n",
       "      <th>521</th>\n",
       "      <td>user_000001</td>\n",
       "      <td>2009-04-21 16:07:46</td>\n",
       "      <td>70575a6f-3644-45f3-bff2-85d73219f909</td>\n",
       "      <td>Hairspray</td>\n",
       "    </tr>\n",
       "    <tr>\n",
       "      <th>522</th>\n",
       "      <td>user_000001</td>\n",
       "      <td>2009-04-21 16:07:02</td>\n",
       "      <td>e86a28e6-1afb-40dc-92fe-5f04e9ccc92d</td>\n",
       "      <td>Classylassie</td>\n",
       "    </tr>\n",
       "    <tr>\n",
       "      <th>523</th>\n",
       "      <td>user_000001</td>\n",
       "      <td>2009-04-21 15:59:56</td>\n",
       "      <td>7d8b1208-af72-4b61-ba8b-7fe35fe8c386</td>\n",
       "      <td>Slush Puppy</td>\n",
       "    </tr>\n",
       "    <tr>\n",
       "      <th>524</th>\n",
       "      <td>user_000001</td>\n",
       "      <td>2009-04-21 15:55:48</td>\n",
       "      <td>bc09b57b-f997-41dd-9d9e-cfb88e381985</td>\n",
       "      <td>Pimp Soul Blisters</td>\n",
       "    </tr>\n",
       "    <tr>\n",
       "      <th>525</th>\n",
       "      <td>user_000001</td>\n",
       "      <td>2009-04-21 15:52:15</td>\n",
       "      <td>d1abddd8-dbae-4ead-9ca6-ac08bfbcc6f6</td>\n",
       "      <td>Mother'S Pride</td>\n",
       "    </tr>\n",
       "    <tr>\n",
       "      <th>526</th>\n",
       "      <td>user_000001</td>\n",
       "      <td>2009-04-21 15:37:33</td>\n",
       "      <td>898aad22-44bf-4e27-b507-00e56e604fbb</td>\n",
       "      <td>Rims Pill</td>\n",
       "    </tr>\n",
       "    <tr>\n",
       "      <th>527</th>\n",
       "      <td>user_000001</td>\n",
       "      <td>2009-04-21 15:30:47</td>\n",
       "      <td>c74c7a90-504a-4495-bef9-a6706105559a</td>\n",
       "      <td>Anal Chewinggum</td>\n",
       "    </tr>\n",
       "    <tr>\n",
       "      <th>528</th>\n",
       "      <td>user_000001</td>\n",
       "      <td>2009-04-21 15:25:53</td>\n",
       "      <td>a1e07c0a-ccd9-43b8-ad0a-bd62a6eff8b8</td>\n",
       "      <td>Tights Wine</td>\n",
       "    </tr>\n",
       "    <tr>\n",
       "      <th>529</th>\n",
       "      <td>user_000001</td>\n",
       "      <td>2009-04-21 15:25:12</td>\n",
       "      <td>7c5ab380-9609-4a75-8d9f-e7855d9eb626</td>\n",
       "      <td>Daisy, She'S A Cowman.. Man..</td>\n",
       "    </tr>\n",
       "    <tr>\n",
       "      <th>530</th>\n",
       "      <td>user_000001</td>\n",
       "      <td>2009-04-21 15:23:07</td>\n",
       "      <td>25977392-c83d-48ea-8631-82be3d3ef8cd</td>\n",
       "      <td>Prime Cock Via Megathong</td>\n",
       "    </tr>\n",
       "    <tr>\n",
       "      <th>531</th>\n",
       "      <td>user_000001</td>\n",
       "      <td>2009-04-21 15:17:44</td>\n",
       "      <td>352887c5-48dc-4270-acc1-81e2256d0a8c</td>\n",
       "      <td>Willy'S Wonka Kite Finger</td>\n",
       "    </tr>\n",
       "    <tr>\n",
       "      <th>532</th>\n",
       "      <td>user_000001</td>\n",
       "      <td>2009-04-21 15:14:24</td>\n",
       "      <td>2a035416-9556-47f9-b7a7-1da2837e4148</td>\n",
       "      <td>Donut Puncher</td>\n",
       "    </tr>\n",
       "    <tr>\n",
       "      <th>533</th>\n",
       "      <td>user_000001</td>\n",
       "      <td>2009-04-21 15:09:24</td>\n",
       "      <td>21179326-9c43-4537-a239-321615e4a314</td>\n",
       "      <td>Spin The Empty</td>\n",
       "    </tr>\n",
       "    <tr>\n",
       "      <th>534</th>\n",
       "      <td>user_000001</td>\n",
       "      <td>2009-04-21 15:08:08</td>\n",
       "      <td>50bae01a-5c93-4593-9051-4d52dbc2bd71</td>\n",
       "      <td>Super-Fanny-Tastic-Elastic</td>\n",
       "    </tr>\n",
       "    <tr>\n",
       "      <th>535</th>\n",
       "      <td>user_000001</td>\n",
       "      <td>2009-04-21 14:55:57</td>\n",
       "      <td>70575a6f-3644-45f3-bff2-85d73219f909</td>\n",
       "      <td>Hairspray</td>\n",
       "    </tr>\n",
       "    <tr>\n",
       "      <th>536</th>\n",
       "      <td>user_000001</td>\n",
       "      <td>2009-04-21 14:55:12</td>\n",
       "      <td>e86a28e6-1afb-40dc-92fe-5f04e9ccc92d</td>\n",
       "      <td>Classylassie</td>\n",
       "    </tr>\n",
       "    <tr>\n",
       "      <th>540</th>\n",
       "      <td>user_000001</td>\n",
       "      <td>2009-04-21 14:27:03</td>\n",
       "      <td>f7c1f8f8-b935-45ed-8fc8-7def69d92a10</td>\n",
       "      <td>The Last Emperor (Theme)</td>\n",
       "    </tr>\n",
       "    <tr>\n",
       "      <th>542</th>\n",
       "      <td>user_000001</td>\n",
       "      <td>2009-04-21 14:16:27</td>\n",
       "      <td>475d4e50-cebb-4cd0-8cd4-c3df97987962</td>\n",
       "      <td>Tibetan Dance (Version)</td>\n",
       "    </tr>\n",
       "  </tbody>\n",
       "</table>\n",
       "<p>303 rows × 4 columns</p>\n",
       "</div>"
      ],
      "text/plain": [
       "         user_id           timestamp                              track_id  \\\n",
       "10   user_000001 2009-05-04 13:06:09  f7c1f8f8-b935-45ed-8fc8-7def69d92a10   \n",
       "12   user_000001 2009-05-04 12:55:34  475d4e50-cebb-4cd0-8cd4-c3df97987962   \n",
       "14   user_000001 2009-05-03 15:48:25  dc394163-2b78-4b56-94e4-658597a29ef8   \n",
       "15   user_000001 2009-05-03 15:37:56  340d9a0b-9a43-4098-b116-9f79811bd508   \n",
       "16   user_000001 2009-05-03 15:14:53  0b04407b-f517-4e00-9e6a-494795efc73e   \n",
       "17   user_000001 2009-05-03 15:10:18  4e78efc4-e545-47af-9617-05ff816d86e2   \n",
       "18   user_000001 2009-05-03 15:04:31  fb51d2c4-cc69-4128-92f5-77ec38d66859   \n",
       "19   user_000001 2009-05-03 14:56:25  4277434f-e3c2-41ae-9ce3-23fd157f9347   \n",
       "20   user_000001 2009-05-03 14:50:51  1151b040-8022-4965-96d2-8a4605ce456c   \n",
       "21   user_000001 2009-05-03 14:46:29  f78c95a8-9256-4757-9a9f-213df5c6854e   \n",
       "22   user_000001 2009-05-03 14:39:20  c4fc8802-d186-4c4d-85cd-d5d063b935c2   \n",
       "23   user_000001 2009-05-03 14:34:06  7217acaf-0f12-4cc0-95da-4fbe17b399dd   \n",
       "24   user_000001 2009-05-03 14:28:02  b79e44f0-2a27-4f50-8a08-ce959a48c9c0   \n",
       "32   user_000001 2009-05-03 13:32:44  f2a38e8c-2eb1-4f47-b3be-bf613153631e   \n",
       "33   user_000001 2009-05-03 13:29:11  d7ffc453-7c42-4fd7-bed6-b749e7a1a60c   \n",
       "37   user_000001 2009-05-02 15:29:50  41bacfc2-c594-4e07-a70d-3675f39003ec   \n",
       "38   user_000001 2009-05-02 15:24:45  cc7da9f6-df0e-4f88-a921-0f3b13f51fd1   \n",
       "39   user_000001 2009-05-02 15:19:46  0024d72c-136f-49f2-9078-ce4b39b94d3f   \n",
       "40   user_000001 2009-05-02 15:13:49  2f550569-8859-4345-a554-ff698eef3ffe   \n",
       "41   user_000001 2009-05-02 15:08:57  00b811a4-762b-492e-b5ef-9a673a55da57   \n",
       "43   user_000001 2009-05-02 15:00:59  6b71d43e-9258-4abd-89da-921fe00070a1   \n",
       "44   user_000001 2009-05-02 14:56:52  0fef630e-df3d-4880-97b6-06eb3e2767a7   \n",
       "45   user_000001 2009-05-02 14:56:52  8e9ec4d9-2248-4f6f-af74-2982f107159a   \n",
       "46   user_000001 2009-05-02 14:52:15  0fef630e-df3d-4880-97b6-06eb3e2767a7   \n",
       "51   user_000001 2009-05-02 14:26:28  e1696a4f-e1b2-4727-a7df-d5b4207ffd52   \n",
       "52   user_000001 2009-05-02 14:24:04  fc89d5bf-a04c-41c9-836d-924e64302076   \n",
       "53   user_000001 2009-05-02 14:19:06  fc89d5bf-a04c-41c9-836d-924e64302076   \n",
       "74   user_000001 2009-05-01 12:45:46  935e9356-19cc-467e-8bc5-f1c2e07caebc   \n",
       "75   user_000001 2009-05-01 12:18:14  d1de63b3-fb80-46bc-befa-8e55076b379a   \n",
       "76   user_000001 2009-05-01 12:09:59  e7d6d338-5e90-4133-8f8b-2a2e63f2a5eb   \n",
       "..           ...                 ...                                   ...   \n",
       "458  user_000001 2009-04-22 13:39:58  82784797-c2f8-444d-84e0-5bb70d7248d4   \n",
       "459  user_000001 2009-04-22 13:36:15  402ce8e4-bbbc-4bd9-9f83-4c91d52473ad   \n",
       "491  user_000001 2009-04-22 04:13:35  475d4e50-cebb-4cd0-8cd4-c3df97987962   \n",
       "503  user_000001 2009-04-21 17:35:33  f7c1f8f8-b935-45ed-8fc8-7def69d92a10   \n",
       "505  user_000001 2009-04-21 17:17:41  475d4e50-cebb-4cd0-8cd4-c3df97987962   \n",
       "514  user_000001 2009-04-21 16:37:42  a1e07c0a-ccd9-43b8-ad0a-bd62a6eff8b8   \n",
       "515  user_000001 2009-04-21 16:37:01  7c5ab380-9609-4a75-8d9f-e7855d9eb626   \n",
       "516  user_000001 2009-04-21 16:34:55  25977392-c83d-48ea-8631-82be3d3ef8cd   \n",
       "517  user_000001 2009-04-21 16:29:32  352887c5-48dc-4270-acc1-81e2256d0a8c   \n",
       "518  user_000001 2009-04-21 16:26:12  2a035416-9556-47f9-b7a7-1da2837e4148   \n",
       "519  user_000001 2009-04-21 16:21:12  21179326-9c43-4537-a239-321615e4a314   \n",
       "520  user_000001 2009-04-21 16:19:57  50bae01a-5c93-4593-9051-4d52dbc2bd71   \n",
       "521  user_000001 2009-04-21 16:07:46  70575a6f-3644-45f3-bff2-85d73219f909   \n",
       "522  user_000001 2009-04-21 16:07:02  e86a28e6-1afb-40dc-92fe-5f04e9ccc92d   \n",
       "523  user_000001 2009-04-21 15:59:56  7d8b1208-af72-4b61-ba8b-7fe35fe8c386   \n",
       "524  user_000001 2009-04-21 15:55:48  bc09b57b-f997-41dd-9d9e-cfb88e381985   \n",
       "525  user_000001 2009-04-21 15:52:15  d1abddd8-dbae-4ead-9ca6-ac08bfbcc6f6   \n",
       "526  user_000001 2009-04-21 15:37:33  898aad22-44bf-4e27-b507-00e56e604fbb   \n",
       "527  user_000001 2009-04-21 15:30:47  c74c7a90-504a-4495-bef9-a6706105559a   \n",
       "528  user_000001 2009-04-21 15:25:53  a1e07c0a-ccd9-43b8-ad0a-bd62a6eff8b8   \n",
       "529  user_000001 2009-04-21 15:25:12  7c5ab380-9609-4a75-8d9f-e7855d9eb626   \n",
       "530  user_000001 2009-04-21 15:23:07  25977392-c83d-48ea-8631-82be3d3ef8cd   \n",
       "531  user_000001 2009-04-21 15:17:44  352887c5-48dc-4270-acc1-81e2256d0a8c   \n",
       "532  user_000001 2009-04-21 15:14:24  2a035416-9556-47f9-b7a7-1da2837e4148   \n",
       "533  user_000001 2009-04-21 15:09:24  21179326-9c43-4537-a239-321615e4a314   \n",
       "534  user_000001 2009-04-21 15:08:08  50bae01a-5c93-4593-9051-4d52dbc2bd71   \n",
       "535  user_000001 2009-04-21 14:55:57  70575a6f-3644-45f3-bff2-85d73219f909   \n",
       "536  user_000001 2009-04-21 14:55:12  e86a28e6-1afb-40dc-92fe-5f04e9ccc92d   \n",
       "540  user_000001 2009-04-21 14:27:03  f7c1f8f8-b935-45ed-8fc8-7def69d92a10   \n",
       "542  user_000001 2009-04-21 14:16:27  475d4e50-cebb-4cd0-8cd4-c3df97987962   \n",
       "\n",
       "                                 track_name  \n",
       "10                 The Last Emperor (Theme)  \n",
       "12                  Tibetan Dance (Version)  \n",
       "14             Boy, Boy, Boy (Switch Remix)  \n",
       "15   Crocodile (Innervisions Orchestra Mix)  \n",
       "16      Ninna Nanna In Blu (Raw Deal Remix)  \n",
       "17                           Elysian Fields  \n",
       "18                       Planetary Deadlock  \n",
       "19        Good Morning Love Coffee Is Ready  \n",
       "20                           Deadly Species  \n",
       "21                              Cold Fusion  \n",
       "22                                   Clouds  \n",
       "23                             Sovatex 2055  \n",
       "24                              Beach Towel  \n",
       "32                   How Lonely Does It Get  \n",
       "33                        You Make Me Dizzy  \n",
       "37                            The Awakening  \n",
       "38                        Stoke Up The Fire  \n",
       "39                     Something In The Way  \n",
       "40                    Play With The Changes  \n",
       "41                                  Give In  \n",
       "43                              Look Inside  \n",
       "44                            Morning Child  \n",
       "45                             Take My Time  \n",
       "46                            Morning Child  \n",
       "51                                Amber Sky  \n",
       "52                               Rasta Baby  \n",
       "53                               Rasta Baby  \n",
       "74                            Growls Garden  \n",
       "75                                The Crush  \n",
       "76          Are We? (Feat. Michelle Amador)  \n",
       "..                                      ...  \n",
       "458                     It'S Not My Problem  \n",
       "459                                      16  \n",
       "491                 Tibetan Dance (Version)  \n",
       "503                The Last Emperor (Theme)  \n",
       "505                 Tibetan Dance (Version)  \n",
       "514                             Tights Wine  \n",
       "515           Daisy, She'S A Cowman.. Man..  \n",
       "516                Prime Cock Via Megathong  \n",
       "517               Willy'S Wonka Kite Finger  \n",
       "518                           Donut Puncher  \n",
       "519                          Spin The Empty  \n",
       "520              Super-Fanny-Tastic-Elastic  \n",
       "521                               Hairspray  \n",
       "522                            Classylassie  \n",
       "523                             Slush Puppy  \n",
       "524                      Pimp Soul Blisters  \n",
       "525                          Mother'S Pride  \n",
       "526                               Rims Pill  \n",
       "527                         Anal Chewinggum  \n",
       "528                             Tights Wine  \n",
       "529           Daisy, She'S A Cowman.. Man..  \n",
       "530                Prime Cock Via Megathong  \n",
       "531               Willy'S Wonka Kite Finger  \n",
       "532                           Donut Puncher  \n",
       "533                          Spin The Empty  \n",
       "534              Super-Fanny-Tastic-Elastic  \n",
       "535                               Hairspray  \n",
       "536                            Classylassie  \n",
       "540                The Last Emperor (Theme)  \n",
       "542                 Tibetan Dance (Version)  \n",
       "\n",
       "[303 rows x 4 columns]"
      ]
     },
     "execution_count": 60,
     "metadata": {},
     "output_type": "execute_result"
    }
   ],
   "source": [
    "all_listened[all_listened['user_id'] == 'user_000001']"
   ]
  },
  {
   "cell_type": "code",
   "execution_count": 64,
   "metadata": {
    "collapsed": false
   },
   "outputs": [],
   "source": [
    "u1 = all_listened[all_listened['user_id'] == 'user_000001'].values"
   ]
  },
  {
   "cell_type": "code",
   "execution_count": 65,
   "metadata": {
    "collapsed": false
   },
   "outputs": [
    {
     "data": {
      "text/plain": [
       "array([['user_000001', Timestamp('2009-05-04 13:06:09'),\n",
       "        'f7c1f8f8-b935-45ed-8fc8-7def69d92a10', 'The Last Emperor (Theme)'],\n",
       "       ['user_000001', Timestamp('2009-05-04 12:55:34'),\n",
       "        '475d4e50-cebb-4cd0-8cd4-c3df97987962', 'Tibetan Dance (Version)'],\n",
       "       ['user_000001', Timestamp('2009-05-03 15:48:25'),\n",
       "        'dc394163-2b78-4b56-94e4-658597a29ef8',\n",
       "        'Boy, Boy, Boy (Switch Remix)'],\n",
       "       ..., \n",
       "       ['user_000001', Timestamp('2009-04-21 14:55:12'),\n",
       "        'e86a28e6-1afb-40dc-92fe-5f04e9ccc92d', 'Classylassie'],\n",
       "       ['user_000001', Timestamp('2009-04-21 14:27:03'),\n",
       "        'f7c1f8f8-b935-45ed-8fc8-7def69d92a10', 'The Last Emperor (Theme)'],\n",
       "       ['user_000001', Timestamp('2009-04-21 14:16:27'),\n",
       "        '475d4e50-cebb-4cd0-8cd4-c3df97987962', 'Tibetan Dance (Version)']], dtype=object)"
      ]
     },
     "execution_count": 65,
     "metadata": {},
     "output_type": "execute_result"
    }
   ],
   "source": [
    "u1"
   ]
  },
  {
   "cell_type": "code",
   "execution_count": 80,
   "metadata": {
    "collapsed": false
   },
   "outputs": [],
   "source": [
    "times = []\n",
    "cluster_ids = []\n",
    "for _, time, track_id, _ in u1:\n",
    "    cluster_ids.append(tracks_map[track_id]['cluster_id'])\n",
    "    times.append(time)"
   ]
  },
  {
   "cell_type": "code",
   "execution_count": 135,
   "metadata": {
    "collapsed": false
   },
   "outputs": [
    {
     "name": "stdout",
     "output_type": "stream",
     "text": [
      "{17539: 2, 14089: 1, 9867: 3, 10562: 3, 11028: 7, 7065: 36, 8484: 17, 4648: 2, 4905: 15, 5804: 57, 4014: 33, 8640: 2, 17090: 14, 7375: 2, 6227: 13, 12504: 2, 2403: 23, 12648: 1, 491: 63, 20465: 4, 9843: 2, 13695: 1}\n"
     ]
    }
   ],
   "source": [
    "cluster_freq = {}\n",
    "for c in cluster_ids:\n",
    "    if c in cluster_freq:\n",
    "        cluster_freq[c] += 1\n",
    "    else:\n",
    "        cluster_freq[c] = 1\n",
    "        \n",
    "print cluster_freq"
   ]
  },
  {
   "cell_type": "code",
   "execution_count": 136,
   "metadata": {
    "collapsed": false
   },
   "outputs": [],
   "source": [
    "from datetime import datetime\n",
    "\n",
    "window_in_mins = (datetime.strptime(finish, \"%Y-%m-%d 00:00:00\") - datetime.strptime(begin, \"%Y-%m-%d 00:00:00\")).days * 24.0"
   ]
  },
  {
   "cell_type": "code",
   "execution_count": 137,
   "metadata": {
    "collapsed": false
   },
   "outputs": [],
   "source": [
    "for f in cluster_freq:\n",
    "    cluster_freq[f] = window_in_mins/cluster_freq[f] "
   ]
  },
  {
   "cell_type": "code",
   "execution_count": 138,
   "metadata": {
    "collapsed": false
   },
   "outputs": [
    {
     "data": {
      "text/plain": [
       "[(491, 5.333333333333333),\n",
       " (5804, 5.894736842105263),\n",
       " (7065, 9.333333333333334),\n",
       " (4014, 10.181818181818182),\n",
       " (2403, 14.608695652173912),\n",
       " (8484, 19.764705882352942),\n",
       " (4905, 22.4),\n",
       " (17090, 24.0),\n",
       " (6227, 25.846153846153847),\n",
       " (11028, 48.0),\n",
       " (20465, 84.0),\n",
       " (9867, 112.0),\n",
       " (10562, 112.0),\n",
       " (17539, 168.0),\n",
       " (4648, 168.0),\n",
       " (8640, 168.0),\n",
       " (7375, 168.0),\n",
       " (12504, 168.0),\n",
       " (9843, 168.0),\n",
       " (14089, 336.0),\n",
       " (12648, 336.0),\n",
       " (13695, 336.0)]"
      ]
     },
     "execution_count": 138,
     "metadata": {},
     "output_type": "execute_result"
    }
   ],
   "source": [
    "[(c, cluster_freq[c]) for c in sorted(cluster_freq, key=lambda x: cluster_freq[x])]"
   ]
  },
  {
   "cell_type": "code",
   "execution_count": 161,
   "metadata": {
    "collapsed": false
   },
   "outputs": [
    {
     "data": {
      "text/plain": [
       "1"
      ]
     },
     "execution_count": 161,
     "metadata": {},
     "output_type": "execute_result"
    }
   ],
   "source": [
    "len(clusters[13695])"
   ]
  },
  {
   "cell_type": "code",
   "execution_count": 117,
   "metadata": {
    "collapsed": false,
    "scrolled": false
   },
   "outputs": [
    {
     "data": {
      "text/plain": [
       "<matplotlib.collections.PathCollection at 0x94c82cf8>"
      ]
     },
     "execution_count": 117,
     "metadata": {},
     "output_type": "execute_result"
    },
    {
     "data": {
      "image/png": "[encoded data removed]",
      "text/plain": [
       "<matplotlib.figure.Figure at 0x94d2c780>"
      ]
     },
     "metadata": {},
     "output_type": "display_data"
    }
   ],
   "source": [
    "plt.figure(figsize=(15,10), dpi=1000)\n",
    "axes = plt.gca()\n",
    "#axes.set_xlim(['2009-05-04 13:06:09','2009-04-21 14:16:27'])\n",
    "plt.scatter(times, cluster_ids, c=cluster_ids)"
   ]
  },
  {
   "cell_type": "code",
   "execution_count": 45,
   "metadata": {
    "collapsed": false
   },
   "outputs": [
    {
     "name": "stdout",
     "output_type": "stream",
     "text": [
      "23237\n",
      "9860\n"
     ]
    }
   ],
   "source": [
    "print len(CmtyV)\n",
    "print len([x for x in CmtyV if len(x) > 1])"
   ]
  },
  {
   "cell_type": "code",
   "execution_count": 46,
   "metadata": {
    "collapsed": true
   },
   "outputs": [],
   "source": [
    "l = [len(a) for a in CmtyV]"
   ]
  },
  {
   "cell_type": "code",
   "execution_count": 47,
   "metadata": {
    "collapsed": false
   },
   "outputs": [
    {
     "data": {
      "text/plain": [
       "[245, 248, 280, 287, 291, 300, 304, 342, 344, 355]"
      ]
     },
     "execution_count": 47,
     "metadata": {},
     "output_type": "execute_result"
    }
   ],
   "source": [
    "l.sort()\n",
    "l[-10:]"
   ]
  },
  {
   "cell_type": "code",
   "execution_count": 48,
   "metadata": {
    "collapsed": false
   },
   "outputs": [],
   "source": [
    "s = [a for a in CmtyV if len(a) == 5]"
   ]
  },
  {
   "cell_type": "code",
   "execution_count": 49,
   "metadata": {
    "collapsed": false,
    "scrolled": true
   },
   "outputs": [
    {
     "name": "stdout",
     "output_type": "stream",
     "text": [
      "Shiola\n",
      "Loathsome\n",
      "Splinters Through A Straw\n",
      "Catching Feathers\n",
      "Death Salvation\n"
     ]
    }
   ],
   "source": [
    "for a in s[0]:\n",
    "    print labels[a]"
   ]
  }
 ],
 "metadata": {
  "kernelspec": {
   "display_name": "Python 2",
   "language": "python",
   "name": "python2"
  },
  "language_info": {
   "codemirror_mode": {
    "name": "ipython",
    "version": 2
   },
   "file_extension": ".py",
   "mimetype": "text/x-python",
   "name": "python",
   "nbconvert_exporter": "python",
   "pygments_lexer": "ipython2",
   "version": "2.7.10"
  }
 },
 "nbformat": 4,
 "nbformat_minor": 0
}
