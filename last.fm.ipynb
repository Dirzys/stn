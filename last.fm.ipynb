{
 "cells": [
  {
   "cell_type": "code",
   "execution_count": 521,
   "metadata": {
    "collapsed": true
   },
   "outputs": [],
   "source": [
    "import snap\n",
    "import pandas as pd\n",
    "import numpy\n",
    "import matplotlib.pyplot as plt \n",
    "%matplotlib inline"
   ]
  },
  {
   "cell_type": "code",
   "execution_count": 316,
   "metadata": {
    "collapsed": true
   },
   "outputs": [],
   "source": [
    "MIN = 60"
   ]
  },
  {
   "cell_type": "code",
   "execution_count": 270,
   "metadata": {
    "collapsed": true
   },
   "outputs": [
    {
     "name": "stderr",
     "output_type": "stream",
     "text": [
      "Skipping line 2120260: expected 6 fields, saw 8\n",
      "\n",
      "Skipping line 2446318: expected 6 fields, saw 8\n",
      "\n",
      "Skipping line 11141081: expected 6 fields, saw 8\n",
      "\n",
      "Skipping line 11152099: expected 6 fields, saw 12\n",
      "Skipping line 11152402: expected 6 fields, saw 8\n",
      "\n",
      "Skipping line 11882087: expected 6 fields, saw 8\n",
      "\n",
      "Skipping line 12902539: expected 6 fields, saw 8\n",
      "Skipping line 12935044: expected 6 fields, saw 8\n",
      "\n",
      "Skipping line 17589539: expected 6 fields, saw 8\n",
      "\n"
     ]
    }
   ],
   "source": [
    "# Parse tracks file, ignore tracks that has no track id\n",
    "all_listened = pd.read_csv(\"dataset\\lastfm-dataset-1K\\userid-timestamp-artid-artname-traid-traname.tsv\", nrows=None, sep='\\t', \n",
    "                     header=None, names=['user_id', 'timestamp', 'track_id', 'track_name'], \n",
    "                     parse_dates=[1], usecols=[0,1,4,5], error_bad_lines=False, warn_bad_lines=True).dropna()"
   ]
  },
  {
   "cell_type": "code",
   "execution_count": 271,
   "metadata": {
    "collapsed": true
   },
   "outputs": [],
   "source": [
    "# Extract two weeks data\n",
    "all_listened_two_weeks = all_listened[(all_listened['timestamp'] >= '2009-04-21 00:00:00') & \n",
    "                                      (all_listened['timestamp'] < '2009-05-05 00:00:00')]"
   ]
  },
  {
   "cell_type": "code",
   "execution_count": 491,
   "metadata": {
    "collapsed": false
   },
   "outputs": [],
   "source": [
    "# Extract only two days data for all users in the dataset\n",
    "all_listened = all_listened_two_weeks[(all_listened_two_weeks['timestamp'] >= '2009-04-28 00:00:00') & \n",
    "                                      (all_listened_two_weeks['timestamp'] < '2009-05-05 00:00:00')]"
   ]
  },
  {
   "cell_type": "code",
   "execution_count": 492,
   "metadata": {
    "collapsed": true
   },
   "outputs": [
    {
     "name": "stdout",
     "output_type": "stream",
     "text": [
      "<class 'pandas.core.frame.DataFrame'>\n",
      "Int64Index: 73709 entries, 10 to 19080798\n",
      "Data columns (total 4 columns):\n",
      "user_id       73709 non-null object\n",
      "timestamp     73709 non-null datetime64[ns]\n",
      "track_id      73709 non-null object\n",
      "track_name    73709 non-null object\n",
      "dtypes: datetime64[ns](1), object(3)\n",
      "memory usage: 2.8+ MB\n"
     ]
    }
   ],
   "source": [
    "# Info about data\n",
    "all_listened.info()"
   ]
  },
  {
   "cell_type": "code",
   "execution_count": 493,
   "metadata": {
    "collapsed": true
   },
   "outputs": [],
   "source": [
    "# Helper dataframe where all listened songs are shifted once so that it can be concatenated\n",
    "# with the original all_listened dataframe. The resulting dataframe holds rows for all consecutively listen tracks\n",
    "all_listened_helper = all_listened.rename(columns={'user_id': 'user_id_2', 'timestamp': 'timestamp_2', \n",
    "                                                   'track_id': 'track_id_2', 'track_name': 'track_name_2'}).shift()\n",
    "cons_listened = pd.concat([all_listened, all_listened_helper], axis=1)"
   ]
  },
  {
   "cell_type": "code",
   "execution_count": 495,
   "metadata": {
    "collapsed": true
   },
   "outputs": [],
   "source": [
    "# Remove rows for which user id is not the same, tracks are identical \n",
    "# or the time difference between two consecutive tracks is bigger than the thredhsold MIN \n",
    "cons_listened = cons_listened[(cons_listened['user_id'] == cons_listened['user_id_2']) & \n",
    "                              (cons_listened['track_id'] != cons_listened['track_id_2']) &\n",
    "                              ((cons_listened['timestamp_2']-cons_listened['timestamp']).astype('timedelta64[m]') <= MIN)]"
   ]
  },
  {
   "cell_type": "code",
   "execution_count": 497,
   "metadata": {
    "collapsed": true
   },
   "outputs": [
    {
     "data": {
      "text/html": [
       "<div>\n",
       "<table border=\"1\" class=\"dataframe\">\n",
       "  <thead>\n",
       "    <tr style=\"text-align: right;\">\n",
       "      <th></th>\n",
       "      <th>user_id</th>\n",
       "      <th>timestamp</th>\n",
       "      <th>track_id</th>\n",
       "      <th>track_name</th>\n",
       "      <th>user_id_2</th>\n",
       "      <th>timestamp_2</th>\n",
       "      <th>track_id_2</th>\n",
       "      <th>track_name_2</th>\n",
       "    </tr>\n",
       "  </thead>\n",
       "  <tbody>\n",
       "    <tr>\n",
       "      <th>14255172</th>\n",
       "      <td>user_000761</td>\n",
       "      <td>2009-04-29 20:21:35</td>\n",
       "      <td>37f12582-e0aa-4f53-bb2e-d1527e8f2299</td>\n",
       "      <td>Sweat</td>\n",
       "      <td>user_000761</td>\n",
       "      <td>2009-04-29 20:25:19</td>\n",
       "      <td>3e85a4cc-3733-4160-8982-6fa6da51cfbc</td>\n",
       "      <td>Primrose Path</td>\n",
       "    </tr>\n",
       "    <tr>\n",
       "      <th>16060176</th>\n",
       "      <td>user_000833</td>\n",
       "      <td>2009-05-04 06:47:31</td>\n",
       "      <td>37f12582-e0aa-4f53-bb2e-d1527e8f2299</td>\n",
       "      <td>Sweat</td>\n",
       "      <td>user_000833</td>\n",
       "      <td>2009-05-04 06:47:55</td>\n",
       "      <td>6f71016e-8be0-4f9c-b72a-f88cc8347d3c</td>\n",
       "      <td>Endlessly, She Said</td>\n",
       "    </tr>\n",
       "    <tr>\n",
       "      <th>16060177</th>\n",
       "      <td>user_000833</td>\n",
       "      <td>2009-05-04 06:43:45</td>\n",
       "      <td>f94fb7e7-76a2-4d84-8734-949f08b0e65b</td>\n",
       "      <td>Saw You Drown</td>\n",
       "      <td>user_000833</td>\n",
       "      <td>2009-05-04 06:47:31</td>\n",
       "      <td>37f12582-e0aa-4f53-bb2e-d1527e8f2299</td>\n",
       "      <td>Sweat</td>\n",
       "    </tr>\n",
       "    <tr>\n",
       "      <th>16060178</th>\n",
       "      <td>user_000833</td>\n",
       "      <td>2009-05-04 06:43:45</td>\n",
       "      <td>37f12582-e0aa-4f53-bb2e-d1527e8f2299</td>\n",
       "      <td>Sweat</td>\n",
       "      <td>user_000833</td>\n",
       "      <td>2009-05-04 06:43:45</td>\n",
       "      <td>f94fb7e7-76a2-4d84-8734-949f08b0e65b</td>\n",
       "      <td>Saw You Drown</td>\n",
       "    </tr>\n",
       "    <tr>\n",
       "      <th>16060179</th>\n",
       "      <td>user_000833</td>\n",
       "      <td>2009-05-04 06:38:43</td>\n",
       "      <td>f94fb7e7-76a2-4d84-8734-949f08b0e65b</td>\n",
       "      <td>Saw You Drown</td>\n",
       "      <td>user_000833</td>\n",
       "      <td>2009-05-04 06:43:45</td>\n",
       "      <td>37f12582-e0aa-4f53-bb2e-d1527e8f2299</td>\n",
       "      <td>Sweat</td>\n",
       "    </tr>\n",
       "  </tbody>\n",
       "</table>\n",
       "</div>"
      ],
      "text/plain": [
       "              user_id           timestamp  \\\n",
       "14255172  user_000761 2009-04-29 20:21:35   \n",
       "16060176  user_000833 2009-05-04 06:47:31   \n",
       "16060177  user_000833 2009-05-04 06:43:45   \n",
       "16060178  user_000833 2009-05-04 06:43:45   \n",
       "16060179  user_000833 2009-05-04 06:38:43   \n",
       "\n",
       "                                      track_id     track_name    user_id_2  \\\n",
       "14255172  37f12582-e0aa-4f53-bb2e-d1527e8f2299          Sweat  user_000761   \n",
       "16060176  37f12582-e0aa-4f53-bb2e-d1527e8f2299          Sweat  user_000833   \n",
       "16060177  f94fb7e7-76a2-4d84-8734-949f08b0e65b  Saw You Drown  user_000833   \n",
       "16060178  37f12582-e0aa-4f53-bb2e-d1527e8f2299          Sweat  user_000833   \n",
       "16060179  f94fb7e7-76a2-4d84-8734-949f08b0e65b  Saw You Drown  user_000833   \n",
       "\n",
       "                 timestamp_2                            track_id_2  \\\n",
       "14255172 2009-04-29 20:25:19  3e85a4cc-3733-4160-8982-6fa6da51cfbc   \n",
       "16060176 2009-05-04 06:47:55  6f71016e-8be0-4f9c-b72a-f88cc8347d3c   \n",
       "16060177 2009-05-04 06:47:31  37f12582-e0aa-4f53-bb2e-d1527e8f2299   \n",
       "16060178 2009-05-04 06:43:45  f94fb7e7-76a2-4d84-8734-949f08b0e65b   \n",
       "16060179 2009-05-04 06:43:45  37f12582-e0aa-4f53-bb2e-d1527e8f2299   \n",
       "\n",
       "                 track_name_2  \n",
       "14255172        Primrose Path  \n",
       "16060176  Endlessly, She Said  \n",
       "16060177                Sweat  \n",
       "16060178        Saw You Drown  \n",
       "16060179                Sweat  "
      ]
     },
     "execution_count": 497,
     "metadata": {},
     "output_type": "execute_result"
    }
   ],
   "source": [
    "cons_listened[(cons_listened['track_id'] == 'f94fb7e7-76a2-4d84-8734-949f08b0e65b') | \n",
    "              (cons_listened['track_id'] == '37f12582-e0aa-4f53-bb2e-d1527e8f2299')]"
   ]
  },
  {
   "cell_type": "code",
   "execution_count": 498,
   "metadata": {
    "collapsed": true
   },
   "outputs": [],
   "source": [
    "def cons_group(track_1_id, track_2_id):\n",
    "    \"\"\" Function to determine the group based on two tracks presented in the row. \"\"\"\n",
    "    if track_1_id > track_2_id:\n",
    "        return track_1_id, track_2_id\n",
    "    else:\n",
    "        return track_2_id, track_1_id\n",
    "\n",
    "# Count how many times each two tracks were played one after other in MIN minutes period \n",
    "cons_listened_counts = pd.DataFrame({'cons_count' : cons_listened.groupby(\n",
    "            numpy.vectorize(cons_group)(cons_listened['track_id'], cons_listened['track_id_2'])\n",
    "        ).size()}).reset_index()\n",
    "\n",
    "cons_listened_counts"
   ]
  },
  {
   "cell_type": "code",
   "execution_count": 500,
   "metadata": {
    "collapsed": true
   },
   "outputs": [],
   "source": [
    "# Count how many times each song were played in total\n",
    "track_counts = all_listened.groupby(['track_id', 'track_name']).size()"
   ]
  },
  {
   "cell_type": "code",
   "execution_count": 502,
   "metadata": {
    "collapsed": false
   },
   "outputs": [],
   "source": [
    "# Create a tracks map where each track id -> track name, track total count, integer id\n",
    "tracks_map = {}\n",
    "for i, (track_id, track_name) in enumerate(track_counts.keys()):\n",
    "    tracks_map[track_id] = {'track_name': track_name, 'track_count': track_counts[(track_id, track_name)], 'int_id': i} \n",
    "    \n",
    "tracks_map"
   ]
  },
  {
   "cell_type": "code",
   "execution_count": 504,
   "metadata": {
    "collapsed": true
   },
   "outputs": [],
   "source": [
    "def similarity(cons_count, track_1_count, track_2_count):\n",
    "    \"\"\" Function to calculate the similarity between two songs\n",
    "        given both tracks total counts in the corpus and the \n",
    "        number of times both tracks were played one after other\"\"\"\n",
    "    return cons_count*1.0/numpy.sqrt(tracks_map[track_1_count]['track_count']*tracks_map[track_2_count]['track_count'])\n",
    "\n",
    "# Add similarity column that determines the similarity between two tracks in the row calculated using similarity function\n",
    "cons_listened_counts['similarity'] = numpy.vectorize(similarity)(cons_listened_counts['cons_count'], \n",
    "                                                                 cons_listened_counts['level_0'], \n",
    "                                                                 cons_listened_counts['level_1'])\n",
    "\n",
    "cons_listened_counts"
   ]
  },
  {
   "cell_type": "code",
   "execution_count": 531,
   "metadata": {
    "collapsed": false
   },
   "outputs": [
    {
     "data": {
      "text/plain": [
       "[<matplotlib.lines.Line2D at 0x225701d0>]"
      ]
     },
     "execution_count": 531,
     "metadata": {},
     "output_type": "execute_result"
    },
    {
     "data": {
      "image/png": "[encoded data removed]",
      "text/plain": [
       "<matplotlib.figure.Figure at 0x22592470>"
      ]
     },
     "metadata": {},
     "output_type": "display_data"
    }
   ],
   "source": [
    "# Plot the similarities between songs in increasing order\n",
    "plt.plot(cons_listened_counts['similarity'].sort(inplace=False))"
   ]
  },
  {
   "cell_type": "code",
   "execution_count": 508,
   "metadata": {
    "collapsed": false
   },
   "outputs": [],
   "source": [
    "# Create song network, add all tracks as nodes in it \n",
    "song_network = snap.TUNGraph.New()\n",
    "labels = {}\n",
    "for track_id in tracks_map:\n",
    "    int_id = tracks_map[track_id]['int_id']\n",
    "    song_network.AddNode(int_id)\n",
    "    labels[int_id] = tracks_map[track_id]['track_name']\n",
    "\n",
    "# Only keep the similar tracks and add edges between these tracks in the network specified above\n",
    "similar_songs = cons_listened_counts[cons_listened_counts['similarity'] > 0.4].values\n",
    "\n",
    "for similar in similar_songs:\n",
    "    song_network.AddEdge(tracks_map[similar[0]]['int_id'], tracks_map[similar[1]]['int_id'])\n",
    "    \n",
    "print song_network.GetEdges()"
   ]
  },
  {
   "cell_type": "code",
   "execution_count": null,
   "metadata": {
    "collapsed": true
   },
   "outputs": [],
   "source": []
  },
  {
   "cell_type": "code",
   "execution_count": 435,
   "metadata": {
    "collapsed": true
   },
   "outputs": [],
   "source": [
    "import networkx as nx\n",
    "g = nx.Graph()\n",
    "for similar in similar_songs:\n",
    "    g.add_edge(tracks_map[similar[0]]['int_id'], tracks_map[similar[1]]['int_id'])\n",
    "nx.draw_networkx(g)"
   ]
  },
  {
   "cell_type": "code",
   "execution_count": 514,
   "metadata": {
    "collapsed": false
   },
   "outputs": [
    {
     "name": "stdout",
     "output_type": "stream",
     "text": [
      "The modularity of the network is 0.943812\n"
     ]
    }
   ],
   "source": [
    "# Cluster the tracks network using Clauset-Newman-Moore community detection method\n",
    "CmtyV = snap.TCnComV()\n",
    "modularity = snap.CommunityCNM(song_network, CmtyV)\n",
    "print \"The modularity of the network is %f\" % modularity"
   ]
  },
  {
   "cell_type": "code",
   "execution_count": 515,
   "metadata": {
    "collapsed": false
   },
   "outputs": [
    {
     "data": {
      "text/plain": [
       "2112"
      ]
     },
     "execution_count": 515,
     "metadata": {},
     "output_type": "execute_result"
    }
   ],
   "source": [
    "len(CmtyV)"
   ]
  },
  {
   "cell_type": "code",
   "execution_count": 516,
   "metadata": {
    "collapsed": true
   },
   "outputs": [],
   "source": [
    "l = [len(a) for a in CmtyV]"
   ]
  },
  {
   "cell_type": "code",
   "execution_count": 518,
   "metadata": {
    "collapsed": false
   },
   "outputs": [
    {
     "data": {
      "text/plain": [
       "[422, 445, 496, 522, 579, 582, 583, 610, 804, 1050]"
      ]
     },
     "execution_count": 518,
     "metadata": {},
     "output_type": "execute_result"
    }
   ],
   "source": [
    "l.sort()\n",
    "l[-10:]"
   ]
  },
  {
   "cell_type": "code",
   "execution_count": 519,
   "metadata": {
    "collapsed": false
   },
   "outputs": [],
   "source": [
    "s = [a for a in CmtyV if len(a) == 5]"
   ]
  },
  {
   "cell_type": "code",
   "execution_count": 520,
   "metadata": {
    "collapsed": false,
    "scrolled": true
   },
   "outputs": [
    {
     "name": "stdout",
     "output_type": "stream",
     "text": [
      "Cowgirl\n",
      "Destined For Great Things\n",
      "Another Rather Lovely Thing\n",
      "What Must Be Done\n",
      "Song For Jesse\n"
     ]
    }
   ],
   "source": [
    "for a in s[0]:\n",
    "    print labels[a]"
   ]
  }
 ],
 "metadata": {
  "kernelspec": {
   "display_name": "Python 2",
   "language": "python",
   "name": "python2"
  },
  "language_info": {
   "codemirror_mode": {
    "name": "ipython",
    "version": 2
   },
   "file_extension": ".py",
   "mimetype": "text/x-python",
   "name": "python",
   "nbconvert_exporter": "python",
   "pygments_lexer": "ipython2",
   "version": "2.7.10"
  }
 },
 "nbformat": 4,
 "nbformat_minor": 0
}
